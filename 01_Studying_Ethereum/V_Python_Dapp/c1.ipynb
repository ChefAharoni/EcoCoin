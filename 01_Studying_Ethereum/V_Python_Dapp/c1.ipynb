{
 "cells": [
  {
   "cell_type": "code",
   "execution_count": 2,
   "metadata": {
    "collapsed": true,
    "ExecuteTime": {
     "end_time": "2023-06-16T13:44:10.382212Z",
     "start_time": "2023-06-16T13:44:08.852903Z"
    }
   },
   "outputs": [
    {
     "data": {
      "text/plain": "True"
     },
     "execution_count": 2,
     "metadata": {},
     "output_type": "execute_result"
    }
   ],
   "source": [
    "from web3 import Web3\n",
    "\n",
    "# Following code is a class to connect to a full node's API.\n",
    "w3 = Web3(Web3.HTTPProvider (\n",
    "    'https://sepolia.infura.io/v3/bf9ec07a1232457b86f8979f2978e4f8'))\n",
    "w3.is_connected()"
   ]
  },
  {
   "cell_type": "code",
   "execution_count": 10,
   "outputs": [
    {
     "data": {
      "text/plain": "AttributeDict({'baseFeePerGas': 17,\n 'difficulty': 0,\n 'extraData': HexBytes('0xd883010b06846765746888676f312e32302e33856c696e7578'),\n 'gasLimit': 30000000,\n 'gasUsed': 11616745,\n 'hash': HexBytes('0xba2c010723fb6097e468a6047ef5a64ccf7108f02714591b8438374dd4961064'),\n 'logsBloom': HexBytes('0x808002c410804520780020040012020051176040039050008483040400001002000a0954008480001800580084100a5031900240012080102042888c012464c00002200362802240882400282620280202818044018ca00120020300400a200046840050020800004812440003120b500100440108a2041004040a380245010c4208800109808013218640020006c8040002188200304004012800200c02040202098301010080071c000a40040c10404040c0400014888c248002040100240402c0010243000040292084240420000001010021400aa141400a00d840206900211a240a226e000000501080a6020500bc2c9c0020200022012c080240014010'),\n 'miner': '0xF29Ff96aaEa6C9A1fBa851f74737f3c069d4f1a9',\n 'mixHash': HexBytes('0xd2eed3d936f7462e4aaf42e8211c9ec535e4eddb8f4f0b31d0d88ba11d65af56'),\n 'nonce': HexBytes('0x0000000000000000'),\n 'number': 3704469,\n 'parentHash': HexBytes('0x2aded997b3938b48633c0bd1768136fdf8997b13b3a40608e1fd9e0d39723b98'),\n 'receiptsRoot': HexBytes('0xe5cdefa713f94d60f8f1fde61f17c7ef7822e73c2cb32d9d696c6bb2fb66d901'),\n 'sha3Uncles': HexBytes('0x1dcc4de8dec75d7aab85b567b6ccd41ad312451b948a7413f0a142fd40d49347'),\n 'size': 55895,\n 'stateRoot': HexBytes('0xfa2330752aa0dd60dd6c80c6696d41a417c8ab8d49e3821a97f7ea73d2ba7e86'),\n 'timestamp': 1686923280,\n 'totalDifficulty': 17000018015853232,\n 'transactions': [HexBytes('0xafc6a071f9504ca2777dda17db14ec3b2036d628958ac1b05244392869c3d9d2'),\n  HexBytes('0xffdaf1d1f2a76a9f5957bb46edd1283d883146f98bb07d9d2a7c857a6aee1e55'),\n  HexBytes('0xf734e41bab9a98dbdbdb2fa0cdc9914f5fb52fac4d2174da0fd6234b0a20f1c1'),\n  HexBytes('0x68f74e7d839ca8761ffc4fba3082aa9255ddfb61f2ae493a13f67700a5def470'),\n  HexBytes('0xae798f8497d6f2d69d60046e55977ef1990bd50e2fd85ef2327a0ba7b698ab6d'),\n  HexBytes('0x4821de185f79ad649a9afeb15f8ef448edaae70c4c9db1547f3f3fee7d937fc4'),\n  HexBytes('0x1957329ac43d4c8a25699886d74056650d11adbbcd3267dc6ca6e1fa1c367bda'),\n  HexBytes('0xe2b878622c162feafdd05e393c706f7772a7741c236df0da62177021da526188'),\n  HexBytes('0xdda2dcb8fb5c836bf925b9057a97b4947a4c39e846dafb0a6fb493c3c18bfa57'),\n  HexBytes('0x64d5f213869405a239e27531215da4d2323501663f2fd5d19aeb1deeae338954'),\n  HexBytes('0x893e1d6dd7d61c3c25975c3fe3393c81322b2a6e81e82adf6bf3a14bef4317b1'),\n  HexBytes('0xdcc0c887fe1a2e46d4f67fb318aa9f771d1511ab75113655c7ce24b41eba474b'),\n  HexBytes('0x4f8488af494650697e4ddd2a104770e0047923412412ad91dbb69a2a9a0d7f5e'),\n  HexBytes('0x9c456503e4d55fbf433c22ce087f28ed4fa1c691089a58aa85a745a5fe9adaf1'),\n  HexBytes('0x68bfc6fcebd802ab2cd9be4d58efc367bb919830e58f2eb7605d1dbf9b5ff979'),\n  HexBytes('0x9ca709f5df4dc2dd69a9ea5ae0367565c28e3c9d008cadb6468084d41f0fb4ee'),\n  HexBytes('0x7cc1a9934b1a38282b95a39beb338dbb92fb2f0b966da39a0aca335dc51d76bb'),\n  HexBytes('0xbbb53cdd22b5edcd5565a5ce27e34ef0b32cf1a255b7bc617ad867762dc80730'),\n  HexBytes('0x90a4f787513d465057811e379a04b89c475f2bd3215316de43bb426449b90030'),\n  HexBytes('0x362e2639915995041a5a2682d4b6df191d97d358e4628d9145ea740bb4e04823'),\n  HexBytes('0xa1c349e65d3a878fa8384a8c04961c39af6e9b08f2142221493655295443fb0d'),\n  HexBytes('0xeba5e0dba6a465b4c7c41bc098c4b4bc05830df454b60cb48094f89e420fbd6b'),\n  HexBytes('0x159973490e38ca339671fdab2aec6d95b0687543241489948275249e57d44e37'),\n  HexBytes('0x8e252ab323f36909836f0d24e28c5f4567ae2531255c68bd3491ecfcacee664a'),\n  HexBytes('0xf4f7a69683d41c6632718da54ff9f2a48f22d8382d43c64c129f91ae167dc280'),\n  HexBytes('0x761b2c6dad48a0455aca32ec74b11453c038e4b0b180d689b8bf6b29c444c1be'),\n  HexBytes('0xbe04467fa0f19dc1f5e567af11c289a30495f8b6fbed0d14c53aa87e967d0997'),\n  HexBytes('0xab8ba60be862b71c09f285ada5fb12456e9a3b9c17334f81266f445ad666bba4'),\n  HexBytes('0xb508f0c2b6c0e315b7261137826e699929d10834b042417690e067c22763fce7'),\n  HexBytes('0x95b34e3cbb02223c799fa5d04225c0f3099ce0522211c79cffc603c32d2f5121'),\n  HexBytes('0xcd5baa75584d4602268755ea2e8b408e4b3b6ab596702e0a75e4526675c4b737'),\n  HexBytes('0x13d1cf5453bed1d6c2da1620c93d81b69af24a6bf12297afa16bec2e1e4d1e4e'),\n  HexBytes('0x53279dfb40411ca483e184de74360822fce1eaa0560bedd7a6a8a938d0fb21d0'),\n  HexBytes('0xf438900e858b30aade6c0aea029ac329a3205142b110806bf8c6fe2669496049'),\n  HexBytes('0xb9a85ca9c6a49b1fb1090ebc6b7c75df216c69c2710e7a89fa2c5eab54fd683b'),\n  HexBytes('0x45dc42d3d77cf350fe80f4f316e6a068eb38c66ea9ab3bd69883f55a44baeac5'),\n  HexBytes('0xb0af395f82fe8ad93942e006abaaee939ff9e6a4a8860ca875ee53e10bef8b4a'),\n  HexBytes('0x47f7fad5614c4d5e28f254cc153e784a1d154d7085545539aea467a04123a53f'),\n  HexBytes('0x2964870ae1af78e02c6778e47a18c27741989b672218d4eccfab92c807707657'),\n  HexBytes('0x76bc5ebc6d604ef9717de74e1e7f2979372eee443027786246c495d59427fc78'),\n  HexBytes('0xd71bccc0548dc97bed4155e8b4d2a55b5e2f173ec1ff8ad636208bd97dfb8f35'),\n  HexBytes('0xbe947317c24827fa1171e7cd72fc9c3441f47ca0f1442a091949dc6cbfc36191'),\n  HexBytes('0x64ed68188d65d840022e37a1e30efe57e4d0ecfc819a9153eff08ef6a6b1f52f'),\n  HexBytes('0x2c9494dcf5a52aca071f7e017b2c17087c929ecd82ed79a0bc431f5af57f50da'),\n  HexBytes('0x190a8e105001ab545b5d7ebb3378fdd234c92230e6ae48a2e35d3a7c6a12d1d6'),\n  HexBytes('0x7326e30b63dbea1680eb5bde78e2b8f282f3638d8b5b13262977ccd51659e3e8'),\n  HexBytes('0xcf7a6285234027d111032ff6e25ac7624d59e747e28c1f409fd1c0fb1d086e1f'),\n  HexBytes('0x153c00434cfb88991105d4de4e2462bbf000de3337c880f962f3544df471bcac'),\n  HexBytes('0xe7a4869b50631759b326eea6fb52cad96ba63d636ddde6d3d419b14836efd1fd'),\n  HexBytes('0xd925155ae3918a76f112ee63ee4af66ee1aa4f725ed2afa0f5439e4f4158a7fc'),\n  HexBytes('0x9372149f1f36b8e913a87fe48dae7efeb8d30e5c733d8a0033ca13839fc8d9dd'),\n  HexBytes('0x5cd0776228da28dc10c7824a9556d5b8faaa2eda1640fc51636be5e4e096186d'),\n  HexBytes('0x3851533b38d7a28d4fa5ee5d416349c7b3733bee00bcffb3342c27ea3aac412f'),\n  HexBytes('0xe949922ed349eb2cc643e3fdccbc0179c7cd4f9d9523e7230466116390aac2cd'),\n  HexBytes('0x337342afccbbdb71318eb360df711711e6f0a2164f8f7b719686f6a3ed531163'),\n  HexBytes('0x54fb390d29f036cb3e6d1574294e1ad00561e39fe3f7bdd6b1c23ec5cbca8e44'),\n  HexBytes('0xbcd0377d5a3bfa994e018fd21a1316416b646c41f617f413ec6c3593ab4514b8'),\n  HexBytes('0xfd6bbb6c35a073e4018baad6a8bff532c1aa349c9f2e21632eba10f1ab6f66a3'),\n  HexBytes('0x5b7e24acac4e21028a25175831d1bc741fbcfe89a3821fabca0bfd619179560c'),\n  HexBytes('0xaf34b297e5f9265ac05251abfae099941c999781f24c3f3b94ede19f917272dc'),\n  HexBytes('0x9ff5e807d15490ab521ed02f0b560948ebbb5cc0e4aae4f857a64f07073f6455'),\n  HexBytes('0x9b27298449ce05f2a90e695b261ace19b129fcdca170390825cf7c7fcee87603'),\n  HexBytes('0xb65accd74079a41dd3a2f19458836b25ebdbbbef1e11e40dd944c45d2f0991a3'),\n  HexBytes('0xe0e99296aa05d68a0fa1f01a88f25c7bd124920cafc8142b49673f0170064642'),\n  HexBytes('0xdf4552b1b44a776710c9049b3f56ac4e708b02d0dfac9e910e1f549c14d92324'),\n  HexBytes('0xc8a08a659fda7f74ce680487de021b2639f71fc7e5bdfe8a786e7854a5f3af50'),\n  HexBytes('0xcc6a16f69fe23d75299c14fbc515e7cb3903efbc9a0a625ddc37a07fbcc4aeff'),\n  HexBytes('0xa46021488d306023a97021afe83793fa68df9dfb81b7bfcc6bf452485a3782db'),\n  HexBytes('0x1d81ee19d39daab2b0ced8cab5908c2313e73a54b1b9ee8106891b6df453b44a'),\n  HexBytes('0xfc9c22bdb8c90cf37aca5b6196b7849b1941ea27c0ac73b89c4b4ddb379aa6e0'),\n  HexBytes('0x99db05893679fdf0e871ce14a33026320f0260eb183d2b6b747ce80c8db93617'),\n  HexBytes('0x5945fb561820d9f95f33ee25276755111ec7cb9c7d6ec8defd5c745bd4ecd182'),\n  HexBytes('0xe97babc0eee50f5508cd76affeadab72d7ba619aa7bb054b0341dee8cc5284b6'),\n  HexBytes('0xbaa21a0dbf0b19b74969f5cda77748b6a795aac08c00bbe98b57c5725b7173d0'),\n  HexBytes('0xf11968a2d01d726d27c06d7bd605d3b8a57da8f9f71ab4efa14e8fbee3ef41b7'),\n  HexBytes('0x6e885880417dfff826cff3124a08cee1cac83d8cf3aece343f7d544beb5f1d23'),\n  HexBytes('0x2510f04a5887da33321d2490c964dd72ac57e379de46ef177a9a30a421de330a'),\n  HexBytes('0xca098ee5e1b33b7e3db6c5ee4cd0845650c9addec8a247a3511ea9d4dab2f227'),\n  HexBytes('0xe2ec0e79e6496a57ba745bd5ee2c9710802cf360a248654e2982e3fd4501e97e'),\n  HexBytes('0xfce6ac2a4a2d5aebb13d9c6090eaface06772792b7152cec9a0a337a451c8811'),\n  HexBytes('0x54efe7961657136d79e5466ce44ff28163ea5f67fdcb7ad0d6df34a9a344c976'),\n  HexBytes('0xa59907859a6aba16da724b7207983cf887c0a7afb08513db8dee879346791d44'),\n  HexBytes('0x5cb0ad887eb1a34107d870cd589a0c99d42204311137020d133d87c1fb6d6cd0'),\n  HexBytes('0xc97c7375caa5b863b83c37d7d5133b5f444aeea382dd29e9440d8e3306e8d417'),\n  HexBytes('0xd5f6de90a11f08fb1c697e56fd4eb9b8aa38775877695ded019f6916e5eeb68b'),\n  HexBytes('0xaf16bb3aa4397b0330c9aaf4f7c29a9c904f999cf10d11c8fb2c21413a504ee9'),\n  HexBytes('0x7263c15bd1d54b73c7b9483dd0ad9d29de756eab7674484a6cbdd2dfbdbe6ada'),\n  HexBytes('0x285f50013b7126e6eac0d31b04a36ba4f52ec00bc30ed0df651c0371458983ed'),\n  HexBytes('0x2dc96ad5d713449666185277d9bbcb57726868c9706a1ad9e413cac744bf3583'),\n  HexBytes('0xcbc9ec12db4c956ccf6cdcf43752262395a075f17e4275dc0adcb3e78e5ec097'),\n  HexBytes('0x7b1afb7b40dbb7119ce32e321cc982865fc492e2cfe3375672e6ee8b2d44f096'),\n  HexBytes('0x95f8ddd3616c06583752f4dcfc79ee40e465db522f6633dde51eddecd094e0ae'),\n  HexBytes('0x86204cb0a4861a1e2ecb7606d1974ae9c085d3b12646cf6ddd1538d8869f0db7'),\n  HexBytes('0xee85ec66288a2b2afa9d06f289edef4eff37f3908560543036e2a7a468413b2f'),\n  HexBytes('0x8971b398da288d50f924c073aca5e73aa67c93e380407c6e426a1b0add5a2a03'),\n  HexBytes('0xf52b2ca262dd4e39edadfcd440c032fc7700cf72b6f3e02cfc68c7e49e1e52ca'),\n  HexBytes('0x1ca66a767db661de89d6c4332449f540a8f48a56c32ab5a9883390efc78b6924'),\n  HexBytes('0xb619eea3e00c985a7ef51a80746be1c2ca8ed5870c4d0d46228a50cd26e1c09b'),\n  HexBytes('0x5e2cf946caedfa2d0be0c687b292c99c61a5d05c8ab804f70fac6a8f0545f1b2'),\n  HexBytes('0x5f497b7999538ed0705b0a0ee85c57f25892bf7b819748ad8485db6afc9cc44b'),\n  HexBytes('0x5938f4512c0ee424e673ee2d774f3b395539a98bb0efa60cbf39b1e384db62c4'),\n  HexBytes('0xfad5b0d7df1c2bc7ae5f19717b30e1224e3c5d7aeb29a199fd247c9864076447'),\n  HexBytes('0xa5857db84d2ea0d3d5e1e9de76fa15f8a73dd2087d254a02ba50fabb433e8186'),\n  HexBytes('0x4b80a5da1ea32abd99beff5b7b08d972f91e551f6dafa2bf1f301fea785316dc'),\n  HexBytes('0xd2713398c581461148ca099544c7eea615076dddab20be41d021aaa0bd4844c9'),\n  HexBytes('0x8d86fbd220ddefe977b66e0a3426aec0143b4d9591693bfbcac11ed14f370aa9'),\n  HexBytes('0x31418ce303ef3372a4d82ba94b1b9dbcbe3728720bd00f1fef3b1d08ff5955d1'),\n  HexBytes('0x3c65ed33fd4d17082687eeb667a1bdafd24bd4dcb27c5aa6ee220706fcb5b4ca'),\n  HexBytes('0x54bbf9aef54065fe38a8d30924d7726c7ee9fb10b52c45c0e2044bfe61729d34'),\n  HexBytes('0x6f7ec2924055092de54d937efe98db18b7531504a619941c524b90434dc39aea')],\n 'transactionsRoot': HexBytes('0x204ea396574e4c9628e1bf47a21a035f5551cbe8569f50a26ca6397ede706356'),\n 'uncles': [],\n 'withdrawals': [AttributeDict({'address': '0xE276Bc378A527A8792B353cdCA5b5E53263DfB9e',\n   'amount': 211996,\n   'index': 11411585,\n   'validatorIndex': 960}),\n  AttributeDict({'address': '0xE276Bc378A527A8792B353cdCA5b5E53263DfB9e',\n   'amount': 211996,\n   'index': 11411586,\n   'validatorIndex': 961}),\n  AttributeDict({'address': '0xE276Bc378A527A8792B353cdCA5b5E53263DfB9e',\n   'amount': 211996,\n   'index': 11411587,\n   'validatorIndex': 962}),\n  AttributeDict({'address': '0xE276Bc378A527A8792B353cdCA5b5E53263DfB9e',\n   'amount': 218723,\n   'index': 11411588,\n   'validatorIndex': 963}),\n  AttributeDict({'address': '0xE276Bc378A527A8792B353cdCA5b5E53263DfB9e',\n   'amount': 211996,\n   'index': 11411589,\n   'validatorIndex': 964}),\n  AttributeDict({'address': '0xE276Bc378A527A8792B353cdCA5b5E53263DfB9e',\n   'amount': 211996,\n   'index': 11411590,\n   'validatorIndex': 965}),\n  AttributeDict({'address': '0xE276Bc378A527A8792B353cdCA5b5E53263DfB9e',\n   'amount': 218723,\n   'index': 11411591,\n   'validatorIndex': 966}),\n  AttributeDict({'address': '0xE276Bc378A527A8792B353cdCA5b5E53263DfB9e',\n   'amount': 211996,\n   'index': 11411592,\n   'validatorIndex': 967}),\n  AttributeDict({'address': '0xE276Bc378A527A8792B353cdCA5b5E53263DfB9e',\n   'amount': 211996,\n   'index': 11411593,\n   'validatorIndex': 968}),\n  AttributeDict({'address': '0xE276Bc378A527A8792B353cdCA5b5E53263DfB9e',\n   'amount': 211996,\n   'index': 11411594,\n   'validatorIndex': 969}),\n  AttributeDict({'address': '0xE276Bc378A527A8792B353cdCA5b5E53263DfB9e',\n   'amount': 211996,\n   'index': 11411595,\n   'validatorIndex': 970}),\n  AttributeDict({'address': '0xE276Bc378A527A8792B353cdCA5b5E53263DfB9e',\n   'amount': 211996,\n   'index': 11411596,\n   'validatorIndex': 971}),\n  AttributeDict({'address': '0xE276Bc378A527A8792B353cdCA5b5E53263DfB9e',\n   'amount': 211996,\n   'index': 11411597,\n   'validatorIndex': 972}),\n  AttributeDict({'address': '0xE276Bc378A527A8792B353cdCA5b5E53263DfB9e',\n   'amount': 211996,\n   'index': 11411598,\n   'validatorIndex': 973}),\n  AttributeDict({'address': '0xE276Bc378A527A8792B353cdCA5b5E53263DfB9e',\n   'amount': 211996,\n   'index': 11411599,\n   'validatorIndex': 974}),\n  AttributeDict({'address': '0xE276Bc378A527A8792B353cdCA5b5E53263DfB9e',\n   'amount': 211996,\n   'index': 11411600,\n   'validatorIndex': 975})],\n 'withdrawalsRoot': HexBytes('0x1403c98e30388653c955960a9825415343d7047bcaa73d85f94881bb12eaf74e')})"
     },
     "execution_count": 10,
     "metadata": {},
     "output_type": "execute_result"
    }
   ],
   "source": [
    "w3.eth.get_block_number()\n",
    "w3.eth.get_block('latest')"
   ],
   "metadata": {
    "collapsed": false,
    "ExecuteTime": {
     "end_time": "2023-06-16T13:48:11.853234Z",
     "start_time": "2023-06-16T13:48:11.481394Z"
    }
   }
  },
  {
   "cell_type": "code",
   "execution_count": 22,
   "outputs": [
    {
     "name": "stdout",
     "output_type": "stream",
     "text": [
      "cea26c0ef0aeb8611a8a8196aa456764aa8a236dd9e55e7af385935affed1913\n"
     ]
    }
   ],
   "source": [
    "from dotenv import load_dotenv\n",
    "import os\n",
    "\n",
    "# dotenv is used to securely store the private key of the account\n",
    "load_dotenv()\n",
    "\n",
    "#Account 1\n",
    "account1_address = '0xe91693e48EFAEaFb4afDe0942b62BDE460E62423'\n",
    "account1_private_key = os.environ.get('account1_private_key')  #Get the private key from the .env file.\n",
    "\n",
    "#Account 2\n",
    "account2_address = '0x7703656253121D9b7a91d930fcFBE3117B1844eB'\n",
    "# print(account1_private_key)"
   ],
   "metadata": {
    "collapsed": false,
    "ExecuteTime": {
     "end_time": "2023-06-16T14:11:54.235431Z",
     "start_time": "2023-06-16T14:11:54.228593Z"
    }
   }
  },
  {
   "cell_type": "code",
   "execution_count": 47,
   "outputs": [
    {
     "name": "stdout",
     "output_type": "stream",
     "text": [
      "{'nonce': 55, 'to': '0x7703656253121D9b7a91d930fcFBE3117B1844eB', 'value': 1000, 'gasPrice': 502, 'gas': 21000}\n",
      "0x2c4b14e29ae4be6ae3d9c52d2cfd53e0b417d19c96832cfb28158d96d829c6d2\n",
      "2064971530490526597\n",
      "10000000000004000\n"
     ]
    }
   ],
   "source": [
    "w3.eth.get_balance(account1_address)  # Get the balance of the account in Wei currency.\n",
    "nonce = w3.eth.get_transaction_count(account1_address)  # Num of transactions in the account, will be used as the nonce for the transaction.\n",
    "\n",
    "tx = {\n",
    "    'nonce': nonce,  # transaction count\n",
    "    'to': account2_address,  # who to send the ETH to\n",
    "    'value': w3.to_wei(1000, 'wei'),  # the amount to transfer\n",
    "    'gasPrice': w3.eth.gas_price,  # get the price of gas\n",
    "}\n",
    "\n",
    "gas =  w3.eth.estimate_gas(tx)  # Estimate the gas of the transaction\n",
    "tx['gas'] = gas\n",
    "print(tx)\n",
    "\n",
    "signed_tx = w3.eth.account.sign_transaction(tx, account1_private_key)\n",
    "tx_hash = w3.eth.send_raw_transaction(signed_tx.rawTransaction)\n",
    "print(w3.to_hex(tx_hash))\n",
    "\n",
    "# receipt = w3.eth.wait_for_transaction_receipt(tx_hash)  # If wanting for the transaction to complete\n",
    "\n",
    "print(w3.eth.get_balance(account1_address))\n",
    "print(w3.eth.get_balance(account2_address))"
   ],
   "metadata": {
    "collapsed": false,
    "ExecuteTime": {
     "end_time": "2023-06-16T17:03:39.021179Z",
     "start_time": "2023-06-16T17:03:37.809693Z"
    }
   }
  },
  {
   "cell_type": "code",
   "execution_count": 57,
   "outputs": [],
   "source": [
    "address = '0xc00B6cbfDbb5d513069c29Ac02f4719DB497D8da'  # The contract's address\n",
    "# abi = '''[\n",
    "# \t{\n",
    "# \t\t\"inputs\": [],\n",
    "# \t\t\"name\": \"cashOut\",\n",
    "# \t\t\"outputs\": [],\n",
    "# \t\t\"stateMutability\": \"nonpayable\",\n",
    "# \t\t\"type\": \"function\"\n",
    "# \t},\n",
    "# \t{\n",
    "# \t\t\"inputs\": [\n",
    "# \t\t\t{\n",
    "# \t\t\t\t\"internalType\": \"string\",\n",
    "# \t\t\t\t\"name\": \"document\",\n",
    "# \t\t\t\t\"type\": \"string\"\n",
    "# \t\t\t}\n",
    "# \t\t],\n",
    "# \t\t\"name\": \"checkEduCredentials\",\n",
    "# \t\t\"outputs\": [],\n",
    "# \t\t\"stateMutability\": \"payable\",\n",
    "# \t\t\"type\": \"function\"\n",
    "# \t},\n",
    "# \t{\n",
    "# \t\t\"inputs\": [],\n",
    "# \t\t\"name\": \"kill\",\n",
    "# \t\t\"outputs\": [],\n",
    "# \t\t\"stateMutability\": \"nonpayable\",\n",
    "# \t\t\"type\": \"function\"\n",
    "# \t},\n",
    "# \t{\n",
    "# \t\t\"anonymous\": false,\n",
    "# \t\t\"inputs\": [\n",
    "# \t\t\t{\n",
    "# \t\t\t\t\"indexed\": false,\n",
    "# \t\t\t\t\"internalType\": \"address\",\n",
    "# \t\t\t\t\"name\": \"from\",\n",
    "# \t\t\t\t\"type\": \"address\"\n",
    "# \t\t\t},\n",
    "# \t\t\t{\n",
    "# \t\t\t\t\"indexed\": false,\n",
    "# \t\t\t\t\"internalType\": \"string\",\n",
    "# \t\t\t\t\"name\": \"document\",\n",
    "# \t\t\t\t\"type\": \"string\"\n",
    "# \t\t\t},\n",
    "# \t\t\t{\n",
    "# \t\t\t\t\"indexed\": false,\n",
    "# \t\t\t\t\"internalType\": \"uint256\",\n",
    "# \t\t\t\t\"name\": \"blockNumber\",\n",
    "# \t\t\t\t\"type\": \"uint256\"\n",
    "# \t\t\t}\n",
    "# \t\t],\n",
    "# \t\t\"name\": \"Result\",\n",
    "# \t\t\"type\": \"event\"\n",
    "# \t},\n",
    "# \t{\n",
    "# \t\t\"inputs\": [\n",
    "# \t\t\t{\n",
    "# \t\t\t\t\"internalType\": \"string\",\n",
    "# \t\t\t\t\"name\": \"document\",\n",
    "# \t\t\t\t\"type\": \"string\"\n",
    "# \t\t\t}\n",
    "# \t\t],\n",
    "# \t\t\"name\": \"storeEduCredentials\",\n",
    "# \t\t\"outputs\": [],\n",
    "# \t\t\"stateMutability\": \"nonpayable\",\n",
    "# \t\t\"type\": \"function\"\n",
    "# \t}\n",
    "# ]'''\n",
    "\n",
    "abi = '''[  {   \"inputs\": [],   \"name\": \"cashOut\",   \"outputs\": [],\n",
    "\"stateMutability\": \"nonpayable\",   \"type\": \"function\"  },  {   \"inputs\":\n",
    "[    {     \"internalType\": \"string\",     \"name\": \"document\",     \"type\":\n",
    "\"string\"    }   ],   \"name\": \"checkEduCredentials\",   \"outputs\": [],\n",
    "\"stateMutability\": \"payable\",   \"type\": \"function\"  },  {   \"inputs\":\n",
    "[],   \"name\": \"kill\",   \"outputs\": [],   \"stateMutability\": \"nonpayable\", \"type\": \"function\"  },  {   \"anonymous\": false,   \"inputs\": [    {\n",
    "\"indexed\": false,     \"internalType\": \"address\",     \"name\": \"from\",\n",
    "\"type\": \"address\"    },    {     \"indexed\": false,     \"internalType\":\n",
    "\"string\",     \"name\": \"document\",     \"type\": \"string\"    },    {\n",
    "\"indexed\": false,     \"internalType\": \"uint256\",     \"name\": \"blockNumber\",\n",
    "\"type\": \"uint256\"    }   ],   \"name\": \"Result\",   \"type\": \"event\"  },  {\n",
    "\"inputs\": [    {     \"internalType\": \"string\",     \"name\": \"document\",\n",
    "\"type\": \"string\"    }   ],   \"name\": \"storeEduCredentials\",   \"outputs\":\n",
    "[],   \"stateMutability\": \"nonpayable\",   \"type\": \"function\"  } ]'''\n",
    "\n",
    "eduCredentialsStore = w3.eth.contract(address=address, abi=abi)  # Contains the reference to the smart contract\n",
    "# eduCredentialsStore = w3.eth.contract(address=address, abi=abi)"
   ],
   "metadata": {
    "collapsed": false,
    "ExecuteTime": {
     "end_time": "2023-06-16T18:14:02.285875Z",
     "start_time": "2023-06-16T18:14:02.281681Z"
    }
   }
  },
  {
   "cell_type": "code",
   "execution_count": 58,
   "outputs": [],
   "source": [
    "import base64\n",
    "\n",
    "def base64encode(message):\n",
    "    \"\"\"\n",
    "    Educational credentials must be base64-encoded before passing to the smart contract.\n",
    "    The function takes in a string and returns its base64-encoded equivalent.\n",
    "    :param message: Message to encode to base64\n",
    "    :return: Encoded message in base64\n",
    "    \"\"\"\n",
    "    message_bytes = message.encode(\"ascii\")\n",
    "    base64_bytes = base64.b64encode(message_bytes)\n",
    "    return base64_bytes.decode(\"ascii\")\n",
    "\n",
    "    # message_bytes = message.encode('ascii')\n",
    "    # base64_bytes = base64.b64decode(message_bytes)\n",
    "    # return base64_bytes.decode('ascii')\n"
   ],
   "metadata": {
    "collapsed": false,
    "ExecuteTime": {
     "end_time": "2023-06-16T18:14:04.107887Z",
     "start_time": "2023-06-16T18:14:04.105643Z"
    }
   }
  },
  {
   "cell_type": "code",
   "execution_count": 59,
   "outputs": [
    {
     "name": "stdout",
     "output_type": "stream",
     "text": [
      "0xf23d5808dabb1adc4b7133f9be528997aa5a8bc51a76b0a9c18be859b761a578\n"
     ]
    }
   ],
   "source": [
    "# The JSON string containing the exam result\n",
    "exam_result = '''\n",
    "{\n",
    "    \"id\": \"1234567\",\n",
    "    \"result\": {\n",
    "        \"math\": \"A\",\n",
    "        \"science\": \"B\",\n",
    "        \"english\": \"A\"\n",
    "    }\n",
    "}\n",
    "'''\n",
    "\n",
    "exam_result = base64encode(exam_result)  # Encode the JSON string to base64.\n",
    "\n",
    "# Get the nonce of the account\n",
    "nonce = w3.eth.get_transaction_count(account1_address)\n",
    "\n",
    "# Build the transaction\n",
    "# transaction = eduCredentialsStore.functions.storeEduCredentials(exam_result).buildTransaction(  # buildTransaction doesn't exist as a method\n",
    "store_tx = \\\n",
    "    {\n",
    "        # 'gas': estimated_gas,\n",
    "        'gasPrice': w3.eth.gas_price,\n",
    "        'from': account1_address,\n",
    "        'nonce': nonce\n",
    "    }\n",
    "\n",
    "\n",
    "# Estimate the gas fee\n",
    "# estimated_gas = eduCredentialsStore.functions.storeEduCredentials(exam_result).estimateGas({'from': account1_address})\n",
    "estimated_gas = w3.eth.estimate_gas(store_tx)\n",
    "store_tx['gas'] = estimated_gas\n",
    "\n",
    "# Sign the transaction\n",
    "signed_txn = w3.eth.account.sign_transaction(store_tx, private_key=account1_private_key)\n",
    "\n",
    "# Send the transaction\n",
    "tx_hash = w3.eth.send_raw_transaction(signed_txn.rawTransaction)\n",
    "print(w3.to_hex(tx_hash))\n",
    "\n",
    "# Wait for the transaction to confirm\n",
    "receipt = w3.eth.wait_for_transaction_receipt(tx_hash)"
   ],
   "metadata": {
    "collapsed": false,
    "ExecuteTime": {
     "end_time": "2023-06-16T18:14:13.179564Z",
     "start_time": "2023-06-16T18:14:05.876312Z"
    }
   }
  },
  {
   "cell_type": "code",
   "execution_count": 62,
   "outputs": [
    {
     "name": "stdout",
     "output_type": "stream",
     "text": [
      "0x48e982b449125a2d3d8ef50b634e386391b52076e2880bf251e8b5056ae33015\n",
      "Filter for 0x10ff111a58c968300e6d4f9d05f1bd155b522eb81e41\n"
     ]
    },
    {
     "ename": "KeyboardInterrupt",
     "evalue": "",
     "output_type": "error",
     "traceback": [
      "\u001B[0;31m---------------------------------------------------------------------------\u001B[0m",
      "\u001B[0;31mKeyboardInterrupt\u001B[0m                         Traceback (most recent call last)",
      "Cell \u001B[0;32mIn[62], line 72\u001B[0m\n\u001B[1;32m     65\u001B[0m block_filter \u001B[38;5;241m=\u001B[39m w3\u001B[38;5;241m.\u001B[39meth\u001B[38;5;241m.\u001B[39mfilter(\n\u001B[1;32m     66\u001B[0m     {\n\u001B[1;32m     67\u001B[0m         \u001B[38;5;124m'\u001B[39m\u001B[38;5;124mfromBlock\u001B[39m\u001B[38;5;124m'\u001B[39m: \u001B[38;5;124m'\u001B[39m\u001B[38;5;124mlatest\u001B[39m\u001B[38;5;124m'\u001B[39m,\n\u001B[1;32m     68\u001B[0m         \u001B[38;5;124m'\u001B[39m\u001B[38;5;124maddress\u001B[39m\u001B[38;5;124m'\u001B[39m: address  \u001B[38;5;66;03m# Address of contract\u001B[39;00m\n\u001B[1;32m     69\u001B[0m     }\n\u001B[1;32m     70\u001B[0m )\n\u001B[1;32m     71\u001B[0m \u001B[38;5;28mprint\u001B[39m(block_filter)\n\u001B[0;32m---> 72\u001B[0m \u001B[43mlog_loop\u001B[49m\u001B[43m(\u001B[49m\u001B[43mblock_filter\u001B[49m\u001B[43m,\u001B[49m\u001B[43m \u001B[49m\u001B[38;5;241;43m2\u001B[39;49m\u001B[43m)\u001B[49m\n",
      "Cell \u001B[0;32mIn[62], line 59\u001B[0m, in \u001B[0;36mlog_loop\u001B[0;34m(event_filter, poll_interval)\u001B[0m\n\u001B[1;32m     57\u001B[0m \u001B[38;5;28;01mdef\u001B[39;00m \u001B[38;5;21mlog_loop\u001B[39m(event_filter, poll_interval):\n\u001B[1;32m     58\u001B[0m     \u001B[38;5;28;01mwhile\u001B[39;00m \u001B[38;5;28;01mTrue\u001B[39;00m:\n\u001B[0;32m---> 59\u001B[0m         \u001B[38;5;28;01mfor\u001B[39;00m event \u001B[38;5;129;01min\u001B[39;00m \u001B[43mevent_filter\u001B[49m\u001B[38;5;241;43m.\u001B[39;49m\u001B[43mget_new_entries\u001B[49m\u001B[43m(\u001B[49m\u001B[43m)\u001B[49m:\n\u001B[1;32m     60\u001B[0m             result \u001B[38;5;241m=\u001B[39m handle_event(event)\n\u001B[1;32m     61\u001B[0m             \u001B[38;5;28;01mif\u001B[39;00m result:  \u001B[38;5;66;03m# Equals to if result == True\u001B[39;00m\n",
      "File \u001B[0;32m~/Library/CloudStorage/Dropbox/03. Main Personal/02. Programming/12. Almogs Birthday Riddle/lib/python3.11/site-packages/web3/_utils/filters.py:181\u001B[0m, in \u001B[0;36mFilter.get_new_entries\u001B[0;34m(self)\u001B[0m\n\u001B[1;32m    179\u001B[0m \u001B[38;5;28;01mdef\u001B[39;00m \u001B[38;5;21mget_new_entries\u001B[39m(\u001B[38;5;28mself\u001B[39m) \u001B[38;5;241m-\u001B[39m\u001B[38;5;241m>\u001B[39m List[LogReceipt]:\n\u001B[1;32m    180\u001B[0m     log_entries \u001B[38;5;241m=\u001B[39m \u001B[38;5;28mself\u001B[39m\u001B[38;5;241m.\u001B[39m_filter_valid_entries(\n\u001B[0;32m--> 181\u001B[0m         \u001B[38;5;28;43mself\u001B[39;49m\u001B[38;5;241;43m.\u001B[39;49m\u001B[43meth_module\u001B[49m\u001B[38;5;241;43m.\u001B[39;49m\u001B[43mget_filter_changes\u001B[49m\u001B[43m(\u001B[49m\u001B[38;5;28;43mself\u001B[39;49m\u001B[38;5;241;43m.\u001B[39;49m\u001B[43mfilter_id\u001B[49m\u001B[43m)\u001B[49m\n\u001B[1;32m    182\u001B[0m     )\n\u001B[1;32m    183\u001B[0m     \u001B[38;5;28;01mreturn\u001B[39;00m \u001B[38;5;28mself\u001B[39m\u001B[38;5;241m.\u001B[39m_format_log_entries(log_entries)\n",
      "File \u001B[0;32m~/Library/CloudStorage/Dropbox/03. Main Personal/02. Programming/12. Almogs Birthday Riddle/lib/python3.11/site-packages/web3/module.py:68\u001B[0m, in \u001B[0;36mretrieve_blocking_method_call_fn.<locals>.caller\u001B[0;34m(*args, **kwargs)\u001B[0m\n\u001B[1;32m     62\u001B[0m     \u001B[38;5;28;01mreturn\u001B[39;00m LogFilter(eth_module\u001B[38;5;241m=\u001B[39mmodule, filter_id\u001B[38;5;241m=\u001B[39merr\u001B[38;5;241m.\u001B[39mfilter_id)\n\u001B[1;32m     63\u001B[0m (\n\u001B[1;32m     64\u001B[0m     result_formatters,\n\u001B[1;32m     65\u001B[0m     error_formatters,\n\u001B[1;32m     66\u001B[0m     null_result_formatters,\n\u001B[1;32m     67\u001B[0m ) \u001B[38;5;241m=\u001B[39m response_formatters\n\u001B[0;32m---> 68\u001B[0m result \u001B[38;5;241m=\u001B[39m \u001B[43mw3\u001B[49m\u001B[38;5;241;43m.\u001B[39;49m\u001B[43mmanager\u001B[49m\u001B[38;5;241;43m.\u001B[39;49m\u001B[43mrequest_blocking\u001B[49m\u001B[43m(\u001B[49m\n\u001B[1;32m     69\u001B[0m \u001B[43m    \u001B[49m\u001B[43mmethod_str\u001B[49m\u001B[43m,\u001B[49m\u001B[43m \u001B[49m\u001B[43mparams\u001B[49m\u001B[43m,\u001B[49m\u001B[43m \u001B[49m\u001B[43merror_formatters\u001B[49m\u001B[43m,\u001B[49m\u001B[43m \u001B[49m\u001B[43mnull_result_formatters\u001B[49m\n\u001B[1;32m     70\u001B[0m \u001B[43m\u001B[49m\u001B[43m)\u001B[49m\n\u001B[1;32m     71\u001B[0m \u001B[38;5;28;01mreturn\u001B[39;00m apply_result_formatters(result_formatters, result)\n",
      "File \u001B[0;32m~/Library/CloudStorage/Dropbox/03. Main Personal/02. Programming/12. Almogs Birthday Riddle/lib/python3.11/site-packages/web3/manager.py:231\u001B[0m, in \u001B[0;36mRequestManager.request_blocking\u001B[0;34m(self, method, params, error_formatters, null_result_formatters)\u001B[0m\n\u001B[1;32m    221\u001B[0m \u001B[38;5;28;01mdef\u001B[39;00m \u001B[38;5;21mrequest_blocking\u001B[39m(\n\u001B[1;32m    222\u001B[0m     \u001B[38;5;28mself\u001B[39m,\n\u001B[1;32m    223\u001B[0m     method: Union[RPCEndpoint, Callable[\u001B[38;5;241m.\u001B[39m\u001B[38;5;241m.\u001B[39m\u001B[38;5;241m.\u001B[39m, RPCEndpoint]],\n\u001B[0;32m   (...)\u001B[0m\n\u001B[1;32m    226\u001B[0m     null_result_formatters: Optional[Callable[\u001B[38;5;241m.\u001B[39m\u001B[38;5;241m.\u001B[39m\u001B[38;5;241m.\u001B[39m, Any]] \u001B[38;5;241m=\u001B[39m \u001B[38;5;28;01mNone\u001B[39;00m,\n\u001B[1;32m    227\u001B[0m ) \u001B[38;5;241m-\u001B[39m\u001B[38;5;241m>\u001B[39m Any:\n\u001B[1;32m    228\u001B[0m \u001B[38;5;250m    \u001B[39m\u001B[38;5;124;03m\"\"\"\u001B[39;00m\n\u001B[1;32m    229\u001B[0m \u001B[38;5;124;03m    Make a synchronous request using the provider\u001B[39;00m\n\u001B[1;32m    230\u001B[0m \u001B[38;5;124;03m    \"\"\"\u001B[39;00m\n\u001B[0;32m--> 231\u001B[0m     response \u001B[38;5;241m=\u001B[39m \u001B[38;5;28;43mself\u001B[39;49m\u001B[38;5;241;43m.\u001B[39;49m\u001B[43m_make_request\u001B[49m\u001B[43m(\u001B[49m\u001B[43mmethod\u001B[49m\u001B[43m,\u001B[49m\u001B[43m \u001B[49m\u001B[43mparams\u001B[49m\u001B[43m)\u001B[49m\n\u001B[1;32m    232\u001B[0m     \u001B[38;5;28;01mreturn\u001B[39;00m \u001B[38;5;28mself\u001B[39m\u001B[38;5;241m.\u001B[39mformatted_response(\n\u001B[1;32m    233\u001B[0m         response, params, error_formatters, null_result_formatters\n\u001B[1;32m    234\u001B[0m     )\n",
      "File \u001B[0;32m~/Library/CloudStorage/Dropbox/03. Main Personal/02. Programming/12. Almogs Birthday Riddle/lib/python3.11/site-packages/web3/manager.py:175\u001B[0m, in \u001B[0;36mRequestManager._make_request\u001B[0;34m(self, method, params)\u001B[0m\n\u001B[1;32m    171\u001B[0m request_func \u001B[38;5;241m=\u001B[39m provider\u001B[38;5;241m.\u001B[39mrequest_func(\n\u001B[1;32m    172\u001B[0m     cast(\u001B[38;5;124m\"\u001B[39m\u001B[38;5;124mWeb3\u001B[39m\u001B[38;5;124m\"\u001B[39m, \u001B[38;5;28mself\u001B[39m\u001B[38;5;241m.\u001B[39mw3), cast(MiddlewareOnion, \u001B[38;5;28mself\u001B[39m\u001B[38;5;241m.\u001B[39mmiddleware_onion)\n\u001B[1;32m    173\u001B[0m )\n\u001B[1;32m    174\u001B[0m \u001B[38;5;28mself\u001B[39m\u001B[38;5;241m.\u001B[39mlogger\u001B[38;5;241m.\u001B[39mdebug(\u001B[38;5;124mf\u001B[39m\u001B[38;5;124m\"\u001B[39m\u001B[38;5;124mMaking request. Method: \u001B[39m\u001B[38;5;132;01m{\u001B[39;00mmethod\u001B[38;5;132;01m}\u001B[39;00m\u001B[38;5;124m\"\u001B[39m)\n\u001B[0;32m--> 175\u001B[0m \u001B[38;5;28;01mreturn\u001B[39;00m \u001B[43mrequest_func\u001B[49m\u001B[43m(\u001B[49m\u001B[43mmethod\u001B[49m\u001B[43m,\u001B[49m\u001B[43m \u001B[49m\u001B[43mparams\u001B[49m\u001B[43m)\u001B[49m\n",
      "File \u001B[0;32m~/Library/CloudStorage/Dropbox/03. Main Personal/02. Programming/12. Almogs Birthday Riddle/lib/python3.11/site-packages/web3/middleware/formatting.py:99\u001B[0m, in \u001B[0;36mconstruct_web3_formatting_middleware.<locals>.formatter_middleware.<locals>.middleware\u001B[0;34m(method, params)\u001B[0m\n\u001B[1;32m     97\u001B[0m     formatter \u001B[38;5;241m=\u001B[39m request_formatters[method]\n\u001B[1;32m     98\u001B[0m     params \u001B[38;5;241m=\u001B[39m formatter(params)\n\u001B[0;32m---> 99\u001B[0m response \u001B[38;5;241m=\u001B[39m \u001B[43mmake_request\u001B[49m\u001B[43m(\u001B[49m\u001B[43mmethod\u001B[49m\u001B[43m,\u001B[49m\u001B[43m \u001B[49m\u001B[43mparams\u001B[49m\u001B[43m)\u001B[49m\n\u001B[1;32m    101\u001B[0m \u001B[38;5;28;01mreturn\u001B[39;00m _apply_response_formatters(\n\u001B[1;32m    102\u001B[0m     method\u001B[38;5;241m=\u001B[39mmethod, response\u001B[38;5;241m=\u001B[39mresponse, \u001B[38;5;241m*\u001B[39m\u001B[38;5;241m*\u001B[39mformatters\n\u001B[1;32m    103\u001B[0m )\n",
      "File \u001B[0;32m~/Library/CloudStorage/Dropbox/03. Main Personal/02. Programming/12. Almogs Birthday Riddle/lib/python3.11/site-packages/web3/middleware/gas_price_strategy.py:96\u001B[0m, in \u001B[0;36mgas_price_strategy_middleware.<locals>.middleware\u001B[0;34m(method, params)\u001B[0m\n\u001B[1;32m     92\u001B[0m     transaction \u001B[38;5;241m=\u001B[39m validate_transaction_params(\n\u001B[1;32m     93\u001B[0m         transaction, latest_block, generated_gas_price\n\u001B[1;32m     94\u001B[0m     )\n\u001B[1;32m     95\u001B[0m     \u001B[38;5;28;01mreturn\u001B[39;00m make_request(method, (transaction,))\n\u001B[0;32m---> 96\u001B[0m \u001B[38;5;28;01mreturn\u001B[39;00m \u001B[43mmake_request\u001B[49m\u001B[43m(\u001B[49m\u001B[43mmethod\u001B[49m\u001B[43m,\u001B[49m\u001B[43m \u001B[49m\u001B[43mparams\u001B[49m\u001B[43m)\u001B[49m\n",
      "File \u001B[0;32m~/Library/CloudStorage/Dropbox/03. Main Personal/02. Programming/12. Almogs Birthday Riddle/lib/python3.11/site-packages/web3/middleware/formatting.py:99\u001B[0m, in \u001B[0;36mconstruct_web3_formatting_middleware.<locals>.formatter_middleware.<locals>.middleware\u001B[0;34m(method, params)\u001B[0m\n\u001B[1;32m     97\u001B[0m     formatter \u001B[38;5;241m=\u001B[39m request_formatters[method]\n\u001B[1;32m     98\u001B[0m     params \u001B[38;5;241m=\u001B[39m formatter(params)\n\u001B[0;32m---> 99\u001B[0m response \u001B[38;5;241m=\u001B[39m \u001B[43mmake_request\u001B[49m\u001B[43m(\u001B[49m\u001B[43mmethod\u001B[49m\u001B[43m,\u001B[49m\u001B[43m \u001B[49m\u001B[43mparams\u001B[49m\u001B[43m)\u001B[49m\n\u001B[1;32m    101\u001B[0m \u001B[38;5;28;01mreturn\u001B[39;00m _apply_response_formatters(\n\u001B[1;32m    102\u001B[0m     method\u001B[38;5;241m=\u001B[39mmethod, response\u001B[38;5;241m=\u001B[39mresponse, \u001B[38;5;241m*\u001B[39m\u001B[38;5;241m*\u001B[39mformatters\n\u001B[1;32m    103\u001B[0m )\n",
      "File \u001B[0;32m~/Library/CloudStorage/Dropbox/03. Main Personal/02. Programming/12. Almogs Birthday Riddle/lib/python3.11/site-packages/web3/middleware/attrdict.py:38\u001B[0m, in \u001B[0;36mattrdict_middleware.<locals>.middleware\u001B[0;34m(method, params)\u001B[0m\n\u001B[1;32m     37\u001B[0m \u001B[38;5;28;01mdef\u001B[39;00m \u001B[38;5;21mmiddleware\u001B[39m(method: RPCEndpoint, params: Any) \u001B[38;5;241m-\u001B[39m\u001B[38;5;241m>\u001B[39m RPCResponse:\n\u001B[0;32m---> 38\u001B[0m     response \u001B[38;5;241m=\u001B[39m \u001B[43mmake_request\u001B[49m\u001B[43m(\u001B[49m\u001B[43mmethod\u001B[49m\u001B[43m,\u001B[49m\u001B[43m \u001B[49m\u001B[43mparams\u001B[49m\u001B[43m)\u001B[49m\n\u001B[1;32m     40\u001B[0m     \u001B[38;5;28;01mif\u001B[39;00m \u001B[38;5;124m\"\u001B[39m\u001B[38;5;124mresult\u001B[39m\u001B[38;5;124m\"\u001B[39m \u001B[38;5;129;01min\u001B[39;00m response:\n\u001B[1;32m     41\u001B[0m         \u001B[38;5;28;01mreturn\u001B[39;00m assoc(\n\u001B[1;32m     42\u001B[0m             response, \u001B[38;5;124m\"\u001B[39m\u001B[38;5;124mresult\u001B[39m\u001B[38;5;124m\"\u001B[39m, AttributeDict\u001B[38;5;241m.\u001B[39mrecursive(response[\u001B[38;5;124m\"\u001B[39m\u001B[38;5;124mresult\u001B[39m\u001B[38;5;124m\"\u001B[39m])\n\u001B[1;32m     43\u001B[0m         )\n",
      "File \u001B[0;32m~/Library/CloudStorage/Dropbox/03. Main Personal/02. Programming/12. Almogs Birthday Riddle/lib/python3.11/site-packages/web3/middleware/formatting.py:99\u001B[0m, in \u001B[0;36mconstruct_web3_formatting_middleware.<locals>.formatter_middleware.<locals>.middleware\u001B[0;34m(method, params)\u001B[0m\n\u001B[1;32m     97\u001B[0m     formatter \u001B[38;5;241m=\u001B[39m request_formatters[method]\n\u001B[1;32m     98\u001B[0m     params \u001B[38;5;241m=\u001B[39m formatter(params)\n\u001B[0;32m---> 99\u001B[0m response \u001B[38;5;241m=\u001B[39m \u001B[43mmake_request\u001B[49m\u001B[43m(\u001B[49m\u001B[43mmethod\u001B[49m\u001B[43m,\u001B[49m\u001B[43m \u001B[49m\u001B[43mparams\u001B[49m\u001B[43m)\u001B[49m\n\u001B[1;32m    101\u001B[0m \u001B[38;5;28;01mreturn\u001B[39;00m _apply_response_formatters(\n\u001B[1;32m    102\u001B[0m     method\u001B[38;5;241m=\u001B[39mmethod, response\u001B[38;5;241m=\u001B[39mresponse, \u001B[38;5;241m*\u001B[39m\u001B[38;5;241m*\u001B[39mformatters\n\u001B[1;32m    103\u001B[0m )\n",
      "File \u001B[0;32m~/Library/CloudStorage/Dropbox/03. Main Personal/02. Programming/12. Almogs Birthday Riddle/lib/python3.11/site-packages/web3/middleware/formatting.py:99\u001B[0m, in \u001B[0;36mconstruct_web3_formatting_middleware.<locals>.formatter_middleware.<locals>.middleware\u001B[0;34m(method, params)\u001B[0m\n\u001B[1;32m     97\u001B[0m     formatter \u001B[38;5;241m=\u001B[39m request_formatters[method]\n\u001B[1;32m     98\u001B[0m     params \u001B[38;5;241m=\u001B[39m formatter(params)\n\u001B[0;32m---> 99\u001B[0m response \u001B[38;5;241m=\u001B[39m \u001B[43mmake_request\u001B[49m\u001B[43m(\u001B[49m\u001B[43mmethod\u001B[49m\u001B[43m,\u001B[49m\u001B[43m \u001B[49m\u001B[43mparams\u001B[49m\u001B[43m)\u001B[49m\n\u001B[1;32m    101\u001B[0m \u001B[38;5;28;01mreturn\u001B[39;00m _apply_response_formatters(\n\u001B[1;32m    102\u001B[0m     method\u001B[38;5;241m=\u001B[39mmethod, response\u001B[38;5;241m=\u001B[39mresponse, \u001B[38;5;241m*\u001B[39m\u001B[38;5;241m*\u001B[39mformatters\n\u001B[1;32m    103\u001B[0m )\n",
      "File \u001B[0;32m~/Library/CloudStorage/Dropbox/03. Main Personal/02. Programming/12. Almogs Birthday Riddle/lib/python3.11/site-packages/web3/middleware/formatting.py:99\u001B[0m, in \u001B[0;36mconstruct_web3_formatting_middleware.<locals>.formatter_middleware.<locals>.middleware\u001B[0;34m(method, params)\u001B[0m\n\u001B[1;32m     97\u001B[0m     formatter \u001B[38;5;241m=\u001B[39m request_formatters[method]\n\u001B[1;32m     98\u001B[0m     params \u001B[38;5;241m=\u001B[39m formatter(params)\n\u001B[0;32m---> 99\u001B[0m response \u001B[38;5;241m=\u001B[39m \u001B[43mmake_request\u001B[49m\u001B[43m(\u001B[49m\u001B[43mmethod\u001B[49m\u001B[43m,\u001B[49m\u001B[43m \u001B[49m\u001B[43mparams\u001B[49m\u001B[43m)\u001B[49m\n\u001B[1;32m    101\u001B[0m \u001B[38;5;28;01mreturn\u001B[39;00m _apply_response_formatters(\n\u001B[1;32m    102\u001B[0m     method\u001B[38;5;241m=\u001B[39mmethod, response\u001B[38;5;241m=\u001B[39mresponse, \u001B[38;5;241m*\u001B[39m\u001B[38;5;241m*\u001B[39mformatters\n\u001B[1;32m    103\u001B[0m )\n",
      "File \u001B[0;32m~/Library/CloudStorage/Dropbox/03. Main Personal/02. Programming/12. Almogs Birthday Riddle/lib/python3.11/site-packages/web3/middleware/buffered_gas_estimate.py:43\u001B[0m, in \u001B[0;36mbuffered_gas_estimate_middleware.<locals>.middleware\u001B[0;34m(method, params)\u001B[0m\n\u001B[1;32m     37\u001B[0m         transaction \u001B[38;5;241m=\u001B[39m assoc(\n\u001B[1;32m     38\u001B[0m             transaction,\n\u001B[1;32m     39\u001B[0m             \u001B[38;5;124m\"\u001B[39m\u001B[38;5;124mgas\u001B[39m\u001B[38;5;124m\"\u001B[39m,\n\u001B[1;32m     40\u001B[0m             \u001B[38;5;28mhex\u001B[39m(get_buffered_gas_estimate(w3, transaction)),\n\u001B[1;32m     41\u001B[0m         )\n\u001B[1;32m     42\u001B[0m         \u001B[38;5;28;01mreturn\u001B[39;00m make_request(method, [transaction])\n\u001B[0;32m---> 43\u001B[0m \u001B[38;5;28;01mreturn\u001B[39;00m \u001B[43mmake_request\u001B[49m\u001B[43m(\u001B[49m\u001B[43mmethod\u001B[49m\u001B[43m,\u001B[49m\u001B[43m \u001B[49m\u001B[43mparams\u001B[49m\u001B[43m)\u001B[49m\n",
      "File \u001B[0;32m~/Library/CloudStorage/Dropbox/03. Main Personal/02. Programming/12. Almogs Birthday Riddle/lib/python3.11/site-packages/web3/middleware/exception_retry_request.py:107\u001B[0m, in \u001B[0;36mexception_retry_middleware.<locals>.middleware\u001B[0;34m(method, params)\u001B[0m\n\u001B[1;32m    105\u001B[0m \u001B[38;5;28;01mfor\u001B[39;00m i \u001B[38;5;129;01min\u001B[39;00m \u001B[38;5;28mrange\u001B[39m(retries):\n\u001B[1;32m    106\u001B[0m     \u001B[38;5;28;01mtry\u001B[39;00m:\n\u001B[0;32m--> 107\u001B[0m         \u001B[38;5;28;01mreturn\u001B[39;00m \u001B[43mmake_request\u001B[49m\u001B[43m(\u001B[49m\u001B[43mmethod\u001B[49m\u001B[43m,\u001B[49m\u001B[43m \u001B[49m\u001B[43mparams\u001B[49m\u001B[43m)\u001B[49m\n\u001B[1;32m    108\u001B[0m     \u001B[38;5;66;03m# https://github.com/python/mypy/issues/5349\u001B[39;00m\n\u001B[1;32m    109\u001B[0m     \u001B[38;5;28;01mexcept\u001B[39;00m errors:  \u001B[38;5;66;03m# type: ignore\u001B[39;00m\n",
      "File \u001B[0;32m~/Library/CloudStorage/Dropbox/03. Main Personal/02. Programming/12. Almogs Birthday Riddle/lib/python3.11/site-packages/web3/providers/rpc.py:90\u001B[0m, in \u001B[0;36mHTTPProvider.make_request\u001B[0;34m(self, method, params)\u001B[0m\n\u001B[1;32m     86\u001B[0m \u001B[38;5;28mself\u001B[39m\u001B[38;5;241m.\u001B[39mlogger\u001B[38;5;241m.\u001B[39mdebug(\n\u001B[1;32m     87\u001B[0m     \u001B[38;5;124mf\u001B[39m\u001B[38;5;124m\"\u001B[39m\u001B[38;5;124mMaking request HTTP. URI: \u001B[39m\u001B[38;5;132;01m{\u001B[39;00m\u001B[38;5;28mself\u001B[39m\u001B[38;5;241m.\u001B[39mendpoint_uri\u001B[38;5;132;01m}\u001B[39;00m\u001B[38;5;124m, Method: \u001B[39m\u001B[38;5;132;01m{\u001B[39;00mmethod\u001B[38;5;132;01m}\u001B[39;00m\u001B[38;5;124m\"\u001B[39m\n\u001B[1;32m     88\u001B[0m )\n\u001B[1;32m     89\u001B[0m request_data \u001B[38;5;241m=\u001B[39m \u001B[38;5;28mself\u001B[39m\u001B[38;5;241m.\u001B[39mencode_rpc_request(method, params)\n\u001B[0;32m---> 90\u001B[0m raw_response \u001B[38;5;241m=\u001B[39m \u001B[43mmake_post_request\u001B[49m\u001B[43m(\u001B[49m\n\u001B[1;32m     91\u001B[0m \u001B[43m    \u001B[49m\u001B[38;5;28;43mself\u001B[39;49m\u001B[38;5;241;43m.\u001B[39;49m\u001B[43mendpoint_uri\u001B[49m\u001B[43m,\u001B[49m\u001B[43m \u001B[49m\u001B[43mrequest_data\u001B[49m\u001B[43m,\u001B[49m\u001B[43m \u001B[49m\u001B[38;5;241;43m*\u001B[39;49m\u001B[38;5;241;43m*\u001B[39;49m\u001B[38;5;28;43mself\u001B[39;49m\u001B[38;5;241;43m.\u001B[39;49m\u001B[43mget_request_kwargs\u001B[49m\u001B[43m(\u001B[49m\u001B[43m)\u001B[49m\n\u001B[1;32m     92\u001B[0m \u001B[43m\u001B[49m\u001B[43m)\u001B[49m\n\u001B[1;32m     93\u001B[0m response \u001B[38;5;241m=\u001B[39m \u001B[38;5;28mself\u001B[39m\u001B[38;5;241m.\u001B[39mdecode_rpc_response(raw_response)\n\u001B[1;32m     94\u001B[0m \u001B[38;5;28mself\u001B[39m\u001B[38;5;241m.\u001B[39mlogger\u001B[38;5;241m.\u001B[39mdebug(\n\u001B[1;32m     95\u001B[0m     \u001B[38;5;124mf\u001B[39m\u001B[38;5;124m\"\u001B[39m\u001B[38;5;124mGetting response HTTP. URI: \u001B[39m\u001B[38;5;132;01m{\u001B[39;00m\u001B[38;5;28mself\u001B[39m\u001B[38;5;241m.\u001B[39mendpoint_uri\u001B[38;5;132;01m}\u001B[39;00m\u001B[38;5;124m, \u001B[39m\u001B[38;5;124m\"\u001B[39m\n\u001B[1;32m     96\u001B[0m     \u001B[38;5;124mf\u001B[39m\u001B[38;5;124m\"\u001B[39m\u001B[38;5;124mMethod: \u001B[39m\u001B[38;5;132;01m{\u001B[39;00mmethod\u001B[38;5;132;01m}\u001B[39;00m\u001B[38;5;124m, Response: \u001B[39m\u001B[38;5;132;01m{\u001B[39;00mresponse\u001B[38;5;132;01m}\u001B[39;00m\u001B[38;5;124m\"\u001B[39m\n\u001B[1;32m     97\u001B[0m )\n",
      "File \u001B[0;32m~/Library/CloudStorage/Dropbox/03. Main Personal/02. Programming/12. Almogs Birthday Riddle/lib/python3.11/site-packages/web3/_utils/request.py:114\u001B[0m, in \u001B[0;36mmake_post_request\u001B[0;34m(endpoint_uri, data, *args, **kwargs)\u001B[0m\n\u001B[1;32m    111\u001B[0m \u001B[38;5;28;01mdef\u001B[39;00m \u001B[38;5;21mmake_post_request\u001B[39m(\n\u001B[1;32m    112\u001B[0m     endpoint_uri: URI, data: Union[\u001B[38;5;28mbytes\u001B[39m, Dict[\u001B[38;5;28mstr\u001B[39m, Any]], \u001B[38;5;241m*\u001B[39margs: Any, \u001B[38;5;241m*\u001B[39m\u001B[38;5;241m*\u001B[39mkwargs: Any\n\u001B[1;32m    113\u001B[0m ) \u001B[38;5;241m-\u001B[39m\u001B[38;5;241m>\u001B[39m \u001B[38;5;28mbytes\u001B[39m:\n\u001B[0;32m--> 114\u001B[0m     response \u001B[38;5;241m=\u001B[39m \u001B[43mget_response_from_post_request\u001B[49m\u001B[43m(\u001B[49m\u001B[43mendpoint_uri\u001B[49m\u001B[43m,\u001B[49m\u001B[43m \u001B[49m\u001B[43mdata\u001B[49m\u001B[38;5;241;43m=\u001B[39;49m\u001B[43mdata\u001B[49m\u001B[43m,\u001B[49m\u001B[43m \u001B[49m\u001B[38;5;241;43m*\u001B[39;49m\u001B[43margs\u001B[49m\u001B[43m,\u001B[49m\u001B[43m \u001B[49m\u001B[38;5;241;43m*\u001B[39;49m\u001B[38;5;241;43m*\u001B[39;49m\u001B[43mkwargs\u001B[49m\u001B[43m)\u001B[49m\n\u001B[1;32m    115\u001B[0m     response\u001B[38;5;241m.\u001B[39mraise_for_status()\n\u001B[1;32m    116\u001B[0m     \u001B[38;5;28;01mreturn\u001B[39;00m response\u001B[38;5;241m.\u001B[39mcontent\n",
      "File \u001B[0;32m~/Library/CloudStorage/Dropbox/03. Main Personal/02. Programming/12. Almogs Birthday Riddle/lib/python3.11/site-packages/web3/_utils/request.py:107\u001B[0m, in \u001B[0;36mget_response_from_post_request\u001B[0;34m(endpoint_uri, *args, **kwargs)\u001B[0m\n\u001B[1;32m    105\u001B[0m kwargs\u001B[38;5;241m.\u001B[39msetdefault(\u001B[38;5;124m\"\u001B[39m\u001B[38;5;124mtimeout\u001B[39m\u001B[38;5;124m\"\u001B[39m, DEFAULT_TIMEOUT)\n\u001B[1;32m    106\u001B[0m session \u001B[38;5;241m=\u001B[39m cache_and_return_session(endpoint_uri)\n\u001B[0;32m--> 107\u001B[0m response \u001B[38;5;241m=\u001B[39m \u001B[43msession\u001B[49m\u001B[38;5;241;43m.\u001B[39;49m\u001B[43mpost\u001B[49m\u001B[43m(\u001B[49m\u001B[43mendpoint_uri\u001B[49m\u001B[43m,\u001B[49m\u001B[43m \u001B[49m\u001B[38;5;241;43m*\u001B[39;49m\u001B[43margs\u001B[49m\u001B[43m,\u001B[49m\u001B[43m \u001B[49m\u001B[38;5;241;43m*\u001B[39;49m\u001B[38;5;241;43m*\u001B[39;49m\u001B[43mkwargs\u001B[49m\u001B[43m)\u001B[49m\n\u001B[1;32m    108\u001B[0m \u001B[38;5;28;01mreturn\u001B[39;00m response\n",
      "File \u001B[0;32m~/Library/CloudStorage/Dropbox/03. Main Personal/02. Programming/12. Almogs Birthday Riddle/lib/python3.11/site-packages/requests/sessions.py:635\u001B[0m, in \u001B[0;36mSession.post\u001B[0;34m(self, url, data, json, **kwargs)\u001B[0m\n\u001B[1;32m    624\u001B[0m \u001B[38;5;28;01mdef\u001B[39;00m \u001B[38;5;21mpost\u001B[39m(\u001B[38;5;28mself\u001B[39m, url, data\u001B[38;5;241m=\u001B[39m\u001B[38;5;28;01mNone\u001B[39;00m, json\u001B[38;5;241m=\u001B[39m\u001B[38;5;28;01mNone\u001B[39;00m, \u001B[38;5;241m*\u001B[39m\u001B[38;5;241m*\u001B[39mkwargs):\n\u001B[1;32m    625\u001B[0m \u001B[38;5;250m    \u001B[39m\u001B[38;5;124mr\u001B[39m\u001B[38;5;124;03m\"\"\"Sends a POST request. Returns :class:`Response` object.\u001B[39;00m\n\u001B[1;32m    626\u001B[0m \n\u001B[1;32m    627\u001B[0m \u001B[38;5;124;03m    :param url: URL for the new :class:`Request` object.\u001B[39;00m\n\u001B[0;32m   (...)\u001B[0m\n\u001B[1;32m    632\u001B[0m \u001B[38;5;124;03m    :rtype: requests.Response\u001B[39;00m\n\u001B[1;32m    633\u001B[0m \u001B[38;5;124;03m    \"\"\"\u001B[39;00m\n\u001B[0;32m--> 635\u001B[0m     \u001B[38;5;28;01mreturn\u001B[39;00m \u001B[38;5;28;43mself\u001B[39;49m\u001B[38;5;241;43m.\u001B[39;49m\u001B[43mrequest\u001B[49m\u001B[43m(\u001B[49m\u001B[38;5;124;43m\"\u001B[39;49m\u001B[38;5;124;43mPOST\u001B[39;49m\u001B[38;5;124;43m\"\u001B[39;49m\u001B[43m,\u001B[49m\u001B[43m \u001B[49m\u001B[43murl\u001B[49m\u001B[43m,\u001B[49m\u001B[43m \u001B[49m\u001B[43mdata\u001B[49m\u001B[38;5;241;43m=\u001B[39;49m\u001B[43mdata\u001B[49m\u001B[43m,\u001B[49m\u001B[43m \u001B[49m\u001B[43mjson\u001B[49m\u001B[38;5;241;43m=\u001B[39;49m\u001B[43mjson\u001B[49m\u001B[43m,\u001B[49m\u001B[43m \u001B[49m\u001B[38;5;241;43m*\u001B[39;49m\u001B[38;5;241;43m*\u001B[39;49m\u001B[43mkwargs\u001B[49m\u001B[43m)\u001B[49m\n",
      "File \u001B[0;32m~/Library/CloudStorage/Dropbox/03. Main Personal/02. Programming/12. Almogs Birthday Riddle/lib/python3.11/site-packages/requests/sessions.py:587\u001B[0m, in \u001B[0;36mSession.request\u001B[0;34m(self, method, url, params, data, headers, cookies, files, auth, timeout, allow_redirects, proxies, hooks, stream, verify, cert, json)\u001B[0m\n\u001B[1;32m    582\u001B[0m send_kwargs \u001B[38;5;241m=\u001B[39m {\n\u001B[1;32m    583\u001B[0m     \u001B[38;5;124m\"\u001B[39m\u001B[38;5;124mtimeout\u001B[39m\u001B[38;5;124m\"\u001B[39m: timeout,\n\u001B[1;32m    584\u001B[0m     \u001B[38;5;124m\"\u001B[39m\u001B[38;5;124mallow_redirects\u001B[39m\u001B[38;5;124m\"\u001B[39m: allow_redirects,\n\u001B[1;32m    585\u001B[0m }\n\u001B[1;32m    586\u001B[0m send_kwargs\u001B[38;5;241m.\u001B[39mupdate(settings)\n\u001B[0;32m--> 587\u001B[0m resp \u001B[38;5;241m=\u001B[39m \u001B[38;5;28;43mself\u001B[39;49m\u001B[38;5;241;43m.\u001B[39;49m\u001B[43msend\u001B[49m\u001B[43m(\u001B[49m\u001B[43mprep\u001B[49m\u001B[43m,\u001B[49m\u001B[43m \u001B[49m\u001B[38;5;241;43m*\u001B[39;49m\u001B[38;5;241;43m*\u001B[39;49m\u001B[43msend_kwargs\u001B[49m\u001B[43m)\u001B[49m\n\u001B[1;32m    589\u001B[0m \u001B[38;5;28;01mreturn\u001B[39;00m resp\n",
      "File \u001B[0;32m~/Library/CloudStorage/Dropbox/03. Main Personal/02. Programming/12. Almogs Birthday Riddle/lib/python3.11/site-packages/requests/sessions.py:701\u001B[0m, in \u001B[0;36mSession.send\u001B[0;34m(self, request, **kwargs)\u001B[0m\n\u001B[1;32m    698\u001B[0m start \u001B[38;5;241m=\u001B[39m preferred_clock()\n\u001B[1;32m    700\u001B[0m \u001B[38;5;66;03m# Send the request\u001B[39;00m\n\u001B[0;32m--> 701\u001B[0m r \u001B[38;5;241m=\u001B[39m \u001B[43madapter\u001B[49m\u001B[38;5;241;43m.\u001B[39;49m\u001B[43msend\u001B[49m\u001B[43m(\u001B[49m\u001B[43mrequest\u001B[49m\u001B[43m,\u001B[49m\u001B[43m \u001B[49m\u001B[38;5;241;43m*\u001B[39;49m\u001B[38;5;241;43m*\u001B[39;49m\u001B[43mkwargs\u001B[49m\u001B[43m)\u001B[49m\n\u001B[1;32m    703\u001B[0m \u001B[38;5;66;03m# Total elapsed time of the request (approximately)\u001B[39;00m\n\u001B[1;32m    704\u001B[0m elapsed \u001B[38;5;241m=\u001B[39m preferred_clock() \u001B[38;5;241m-\u001B[39m start\n",
      "File \u001B[0;32m~/Library/CloudStorage/Dropbox/03. Main Personal/02. Programming/12. Almogs Birthday Riddle/lib/python3.11/site-packages/requests/adapters.py:489\u001B[0m, in \u001B[0;36mHTTPAdapter.send\u001B[0;34m(self, request, stream, timeout, verify, cert, proxies)\u001B[0m\n\u001B[1;32m    487\u001B[0m \u001B[38;5;28;01mtry\u001B[39;00m:\n\u001B[1;32m    488\u001B[0m     \u001B[38;5;28;01mif\u001B[39;00m \u001B[38;5;129;01mnot\u001B[39;00m chunked:\n\u001B[0;32m--> 489\u001B[0m         resp \u001B[38;5;241m=\u001B[39m \u001B[43mconn\u001B[49m\u001B[38;5;241;43m.\u001B[39;49m\u001B[43murlopen\u001B[49m\u001B[43m(\u001B[49m\n\u001B[1;32m    490\u001B[0m \u001B[43m            \u001B[49m\u001B[43mmethod\u001B[49m\u001B[38;5;241;43m=\u001B[39;49m\u001B[43mrequest\u001B[49m\u001B[38;5;241;43m.\u001B[39;49m\u001B[43mmethod\u001B[49m\u001B[43m,\u001B[49m\n\u001B[1;32m    491\u001B[0m \u001B[43m            \u001B[49m\u001B[43murl\u001B[49m\u001B[38;5;241;43m=\u001B[39;49m\u001B[43murl\u001B[49m\u001B[43m,\u001B[49m\n\u001B[1;32m    492\u001B[0m \u001B[43m            \u001B[49m\u001B[43mbody\u001B[49m\u001B[38;5;241;43m=\u001B[39;49m\u001B[43mrequest\u001B[49m\u001B[38;5;241;43m.\u001B[39;49m\u001B[43mbody\u001B[49m\u001B[43m,\u001B[49m\n\u001B[1;32m    493\u001B[0m \u001B[43m            \u001B[49m\u001B[43mheaders\u001B[49m\u001B[38;5;241;43m=\u001B[39;49m\u001B[43mrequest\u001B[49m\u001B[38;5;241;43m.\u001B[39;49m\u001B[43mheaders\u001B[49m\u001B[43m,\u001B[49m\n\u001B[1;32m    494\u001B[0m \u001B[43m            \u001B[49m\u001B[43mredirect\u001B[49m\u001B[38;5;241;43m=\u001B[39;49m\u001B[38;5;28;43;01mFalse\u001B[39;49;00m\u001B[43m,\u001B[49m\n\u001B[1;32m    495\u001B[0m \u001B[43m            \u001B[49m\u001B[43massert_same_host\u001B[49m\u001B[38;5;241;43m=\u001B[39;49m\u001B[38;5;28;43;01mFalse\u001B[39;49;00m\u001B[43m,\u001B[49m\n\u001B[1;32m    496\u001B[0m \u001B[43m            \u001B[49m\u001B[43mpreload_content\u001B[49m\u001B[38;5;241;43m=\u001B[39;49m\u001B[38;5;28;43;01mFalse\u001B[39;49;00m\u001B[43m,\u001B[49m\n\u001B[1;32m    497\u001B[0m \u001B[43m            \u001B[49m\u001B[43mdecode_content\u001B[49m\u001B[38;5;241;43m=\u001B[39;49m\u001B[38;5;28;43;01mFalse\u001B[39;49;00m\u001B[43m,\u001B[49m\n\u001B[1;32m    498\u001B[0m \u001B[43m            \u001B[49m\u001B[43mretries\u001B[49m\u001B[38;5;241;43m=\u001B[39;49m\u001B[38;5;28;43mself\u001B[39;49m\u001B[38;5;241;43m.\u001B[39;49m\u001B[43mmax_retries\u001B[49m\u001B[43m,\u001B[49m\n\u001B[1;32m    499\u001B[0m \u001B[43m            \u001B[49m\u001B[43mtimeout\u001B[49m\u001B[38;5;241;43m=\u001B[39;49m\u001B[43mtimeout\u001B[49m\u001B[43m,\u001B[49m\n\u001B[1;32m    500\u001B[0m \u001B[43m        \u001B[49m\u001B[43m)\u001B[49m\n\u001B[1;32m    502\u001B[0m     \u001B[38;5;66;03m# Send the request.\u001B[39;00m\n\u001B[1;32m    503\u001B[0m     \u001B[38;5;28;01melse\u001B[39;00m:\n\u001B[1;32m    504\u001B[0m         \u001B[38;5;28;01mif\u001B[39;00m \u001B[38;5;28mhasattr\u001B[39m(conn, \u001B[38;5;124m\"\u001B[39m\u001B[38;5;124mproxy_pool\u001B[39m\u001B[38;5;124m\"\u001B[39m):\n",
      "File \u001B[0;32m~/Library/CloudStorage/Dropbox/03. Main Personal/02. Programming/12. Almogs Birthday Riddle/lib/python3.11/site-packages/urllib3/connectionpool.py:703\u001B[0m, in \u001B[0;36mHTTPConnectionPool.urlopen\u001B[0;34m(self, method, url, body, headers, retries, redirect, assert_same_host, timeout, pool_timeout, release_conn, chunked, body_pos, **response_kw)\u001B[0m\n\u001B[1;32m    700\u001B[0m     \u001B[38;5;28mself\u001B[39m\u001B[38;5;241m.\u001B[39m_prepare_proxy(conn)\n\u001B[1;32m    702\u001B[0m \u001B[38;5;66;03m# Make the request on the httplib connection object.\u001B[39;00m\n\u001B[0;32m--> 703\u001B[0m httplib_response \u001B[38;5;241m=\u001B[39m \u001B[38;5;28;43mself\u001B[39;49m\u001B[38;5;241;43m.\u001B[39;49m\u001B[43m_make_request\u001B[49m\u001B[43m(\u001B[49m\n\u001B[1;32m    704\u001B[0m \u001B[43m    \u001B[49m\u001B[43mconn\u001B[49m\u001B[43m,\u001B[49m\n\u001B[1;32m    705\u001B[0m \u001B[43m    \u001B[49m\u001B[43mmethod\u001B[49m\u001B[43m,\u001B[49m\n\u001B[1;32m    706\u001B[0m \u001B[43m    \u001B[49m\u001B[43murl\u001B[49m\u001B[43m,\u001B[49m\n\u001B[1;32m    707\u001B[0m \u001B[43m    \u001B[49m\u001B[43mtimeout\u001B[49m\u001B[38;5;241;43m=\u001B[39;49m\u001B[43mtimeout_obj\u001B[49m\u001B[43m,\u001B[49m\n\u001B[1;32m    708\u001B[0m \u001B[43m    \u001B[49m\u001B[43mbody\u001B[49m\u001B[38;5;241;43m=\u001B[39;49m\u001B[43mbody\u001B[49m\u001B[43m,\u001B[49m\n\u001B[1;32m    709\u001B[0m \u001B[43m    \u001B[49m\u001B[43mheaders\u001B[49m\u001B[38;5;241;43m=\u001B[39;49m\u001B[43mheaders\u001B[49m\u001B[43m,\u001B[49m\n\u001B[1;32m    710\u001B[0m \u001B[43m    \u001B[49m\u001B[43mchunked\u001B[49m\u001B[38;5;241;43m=\u001B[39;49m\u001B[43mchunked\u001B[49m\u001B[43m,\u001B[49m\n\u001B[1;32m    711\u001B[0m \u001B[43m\u001B[49m\u001B[43m)\u001B[49m\n\u001B[1;32m    713\u001B[0m \u001B[38;5;66;03m# If we're going to release the connection in ``finally:``, then\u001B[39;00m\n\u001B[1;32m    714\u001B[0m \u001B[38;5;66;03m# the response doesn't need to know about the connection. Otherwise\u001B[39;00m\n\u001B[1;32m    715\u001B[0m \u001B[38;5;66;03m# it will also try to release it and we'll have a double-release\u001B[39;00m\n\u001B[1;32m    716\u001B[0m \u001B[38;5;66;03m# mess.\u001B[39;00m\n\u001B[1;32m    717\u001B[0m response_conn \u001B[38;5;241m=\u001B[39m conn \u001B[38;5;28;01mif\u001B[39;00m \u001B[38;5;129;01mnot\u001B[39;00m release_conn \u001B[38;5;28;01melse\u001B[39;00m \u001B[38;5;28;01mNone\u001B[39;00m\n",
      "File \u001B[0;32m~/Library/CloudStorage/Dropbox/03. Main Personal/02. Programming/12. Almogs Birthday Riddle/lib/python3.11/site-packages/urllib3/connectionpool.py:449\u001B[0m, in \u001B[0;36mHTTPConnectionPool._make_request\u001B[0;34m(self, conn, method, url, timeout, chunked, **httplib_request_kw)\u001B[0m\n\u001B[1;32m    444\u001B[0m             httplib_response \u001B[38;5;241m=\u001B[39m conn\u001B[38;5;241m.\u001B[39mgetresponse()\n\u001B[1;32m    445\u001B[0m         \u001B[38;5;28;01mexcept\u001B[39;00m \u001B[38;5;167;01mBaseException\u001B[39;00m \u001B[38;5;28;01mas\u001B[39;00m e:\n\u001B[1;32m    446\u001B[0m             \u001B[38;5;66;03m# Remove the TypeError from the exception chain in\u001B[39;00m\n\u001B[1;32m    447\u001B[0m             \u001B[38;5;66;03m# Python 3 (including for exceptions like SystemExit).\u001B[39;00m\n\u001B[1;32m    448\u001B[0m             \u001B[38;5;66;03m# Otherwise it looks like a bug in the code.\u001B[39;00m\n\u001B[0;32m--> 449\u001B[0m             \u001B[43msix\u001B[49m\u001B[38;5;241;43m.\u001B[39;49m\u001B[43mraise_from\u001B[49m\u001B[43m(\u001B[49m\u001B[43me\u001B[49m\u001B[43m,\u001B[49m\u001B[43m \u001B[49m\u001B[38;5;28;43;01mNone\u001B[39;49;00m\u001B[43m)\u001B[49m\n\u001B[1;32m    450\u001B[0m \u001B[38;5;28;01mexcept\u001B[39;00m (SocketTimeout, BaseSSLError, SocketError) \u001B[38;5;28;01mas\u001B[39;00m e:\n\u001B[1;32m    451\u001B[0m     \u001B[38;5;28mself\u001B[39m\u001B[38;5;241m.\u001B[39m_raise_timeout(err\u001B[38;5;241m=\u001B[39me, url\u001B[38;5;241m=\u001B[39murl, timeout_value\u001B[38;5;241m=\u001B[39mread_timeout)\n",
      "File \u001B[0;32m<string>:3\u001B[0m, in \u001B[0;36mraise_from\u001B[0;34m(value, from_value)\u001B[0m\n",
      "File \u001B[0;32m~/Library/CloudStorage/Dropbox/03. Main Personal/02. Programming/12. Almogs Birthday Riddle/lib/python3.11/site-packages/urllib3/connectionpool.py:444\u001B[0m, in \u001B[0;36mHTTPConnectionPool._make_request\u001B[0;34m(self, conn, method, url, timeout, chunked, **httplib_request_kw)\u001B[0m\n\u001B[1;32m    441\u001B[0m \u001B[38;5;28;01mexcept\u001B[39;00m \u001B[38;5;167;01mTypeError\u001B[39;00m:\n\u001B[1;32m    442\u001B[0m     \u001B[38;5;66;03m# Python 3\u001B[39;00m\n\u001B[1;32m    443\u001B[0m     \u001B[38;5;28;01mtry\u001B[39;00m:\n\u001B[0;32m--> 444\u001B[0m         httplib_response \u001B[38;5;241m=\u001B[39m \u001B[43mconn\u001B[49m\u001B[38;5;241;43m.\u001B[39;49m\u001B[43mgetresponse\u001B[49m\u001B[43m(\u001B[49m\u001B[43m)\u001B[49m\n\u001B[1;32m    445\u001B[0m     \u001B[38;5;28;01mexcept\u001B[39;00m \u001B[38;5;167;01mBaseException\u001B[39;00m \u001B[38;5;28;01mas\u001B[39;00m e:\n\u001B[1;32m    446\u001B[0m         \u001B[38;5;66;03m# Remove the TypeError from the exception chain in\u001B[39;00m\n\u001B[1;32m    447\u001B[0m         \u001B[38;5;66;03m# Python 3 (including for exceptions like SystemExit).\u001B[39;00m\n\u001B[1;32m    448\u001B[0m         \u001B[38;5;66;03m# Otherwise it looks like a bug in the code.\u001B[39;00m\n\u001B[1;32m    449\u001B[0m         six\u001B[38;5;241m.\u001B[39mraise_from(e, \u001B[38;5;28;01mNone\u001B[39;00m)\n",
      "File \u001B[0;32m/Library/Frameworks/Python.framework/Versions/3.11/lib/python3.11/http/client.py:1374\u001B[0m, in \u001B[0;36mHTTPConnection.getresponse\u001B[0;34m(self)\u001B[0m\n\u001B[1;32m   1372\u001B[0m \u001B[38;5;28;01mtry\u001B[39;00m:\n\u001B[1;32m   1373\u001B[0m     \u001B[38;5;28;01mtry\u001B[39;00m:\n\u001B[0;32m-> 1374\u001B[0m         \u001B[43mresponse\u001B[49m\u001B[38;5;241;43m.\u001B[39;49m\u001B[43mbegin\u001B[49m\u001B[43m(\u001B[49m\u001B[43m)\u001B[49m\n\u001B[1;32m   1375\u001B[0m     \u001B[38;5;28;01mexcept\u001B[39;00m \u001B[38;5;167;01mConnectionError\u001B[39;00m:\n\u001B[1;32m   1376\u001B[0m         \u001B[38;5;28mself\u001B[39m\u001B[38;5;241m.\u001B[39mclose()\n",
      "File \u001B[0;32m/Library/Frameworks/Python.framework/Versions/3.11/lib/python3.11/http/client.py:318\u001B[0m, in \u001B[0;36mHTTPResponse.begin\u001B[0;34m(self)\u001B[0m\n\u001B[1;32m    316\u001B[0m \u001B[38;5;66;03m# read until we get a non-100 response\u001B[39;00m\n\u001B[1;32m    317\u001B[0m \u001B[38;5;28;01mwhile\u001B[39;00m \u001B[38;5;28;01mTrue\u001B[39;00m:\n\u001B[0;32m--> 318\u001B[0m     version, status, reason \u001B[38;5;241m=\u001B[39m \u001B[38;5;28;43mself\u001B[39;49m\u001B[38;5;241;43m.\u001B[39;49m\u001B[43m_read_status\u001B[49m\u001B[43m(\u001B[49m\u001B[43m)\u001B[49m\n\u001B[1;32m    319\u001B[0m     \u001B[38;5;28;01mif\u001B[39;00m status \u001B[38;5;241m!=\u001B[39m CONTINUE:\n\u001B[1;32m    320\u001B[0m         \u001B[38;5;28;01mbreak\u001B[39;00m\n",
      "File \u001B[0;32m/Library/Frameworks/Python.framework/Versions/3.11/lib/python3.11/http/client.py:279\u001B[0m, in \u001B[0;36mHTTPResponse._read_status\u001B[0;34m(self)\u001B[0m\n\u001B[1;32m    278\u001B[0m \u001B[38;5;28;01mdef\u001B[39;00m \u001B[38;5;21m_read_status\u001B[39m(\u001B[38;5;28mself\u001B[39m):\n\u001B[0;32m--> 279\u001B[0m     line \u001B[38;5;241m=\u001B[39m \u001B[38;5;28mstr\u001B[39m(\u001B[38;5;28mself\u001B[39m\u001B[38;5;241m.\u001B[39mfp\u001B[38;5;241m.\u001B[39mreadline(_MAXLINE \u001B[38;5;241m+\u001B[39m \u001B[38;5;241m1\u001B[39m), \u001B[38;5;124m\"\u001B[39m\u001B[38;5;124miso-8859-1\u001B[39m\u001B[38;5;124m\"\u001B[39m)\n\u001B[1;32m    280\u001B[0m     \u001B[38;5;28;01mif\u001B[39;00m \u001B[38;5;28mlen\u001B[39m(line) \u001B[38;5;241m>\u001B[39m _MAXLINE:\n\u001B[1;32m    281\u001B[0m         \u001B[38;5;28;01mraise\u001B[39;00m LineTooLong(\u001B[38;5;124m\"\u001B[39m\u001B[38;5;124mstatus line\u001B[39m\u001B[38;5;124m\"\u001B[39m)\n",
      "File \u001B[0;32m/Library/Frameworks/Python.framework/Versions/3.11/lib/python3.11/socket.py:705\u001B[0m, in \u001B[0;36mSocketIO.readinto\u001B[0;34m(self, b)\u001B[0m\n\u001B[1;32m    703\u001B[0m \u001B[38;5;28;01mwhile\u001B[39;00m \u001B[38;5;28;01mTrue\u001B[39;00m:\n\u001B[1;32m    704\u001B[0m     \u001B[38;5;28;01mtry\u001B[39;00m:\n\u001B[0;32m--> 705\u001B[0m         \u001B[38;5;28;01mreturn\u001B[39;00m \u001B[38;5;28;43mself\u001B[39;49m\u001B[38;5;241;43m.\u001B[39;49m\u001B[43m_sock\u001B[49m\u001B[38;5;241;43m.\u001B[39;49m\u001B[43mrecv_into\u001B[49m\u001B[43m(\u001B[49m\u001B[43mb\u001B[49m\u001B[43m)\u001B[49m\n\u001B[1;32m    706\u001B[0m     \u001B[38;5;28;01mexcept\u001B[39;00m timeout:\n\u001B[1;32m    707\u001B[0m         \u001B[38;5;28mself\u001B[39m\u001B[38;5;241m.\u001B[39m_timeout_occurred \u001B[38;5;241m=\u001B[39m \u001B[38;5;28;01mTrue\u001B[39;00m\n",
      "File \u001B[0;32m/Library/Frameworks/Python.framework/Versions/3.11/lib/python3.11/ssl.py:1278\u001B[0m, in \u001B[0;36mSSLSocket.recv_into\u001B[0;34m(self, buffer, nbytes, flags)\u001B[0m\n\u001B[1;32m   1274\u001B[0m     \u001B[38;5;28;01mif\u001B[39;00m flags \u001B[38;5;241m!=\u001B[39m \u001B[38;5;241m0\u001B[39m:\n\u001B[1;32m   1275\u001B[0m         \u001B[38;5;28;01mraise\u001B[39;00m \u001B[38;5;167;01mValueError\u001B[39;00m(\n\u001B[1;32m   1276\u001B[0m           \u001B[38;5;124m\"\u001B[39m\u001B[38;5;124mnon-zero flags not allowed in calls to recv_into() on \u001B[39m\u001B[38;5;132;01m%s\u001B[39;00m\u001B[38;5;124m\"\u001B[39m \u001B[38;5;241m%\u001B[39m\n\u001B[1;32m   1277\u001B[0m           \u001B[38;5;28mself\u001B[39m\u001B[38;5;241m.\u001B[39m\u001B[38;5;18m__class__\u001B[39m)\n\u001B[0;32m-> 1278\u001B[0m     \u001B[38;5;28;01mreturn\u001B[39;00m \u001B[38;5;28;43mself\u001B[39;49m\u001B[38;5;241;43m.\u001B[39;49m\u001B[43mread\u001B[49m\u001B[43m(\u001B[49m\u001B[43mnbytes\u001B[49m\u001B[43m,\u001B[49m\u001B[43m \u001B[49m\u001B[43mbuffer\u001B[49m\u001B[43m)\u001B[49m\n\u001B[1;32m   1279\u001B[0m \u001B[38;5;28;01melse\u001B[39;00m:\n\u001B[1;32m   1280\u001B[0m     \u001B[38;5;28;01mreturn\u001B[39;00m \u001B[38;5;28msuper\u001B[39m()\u001B[38;5;241m.\u001B[39mrecv_into(buffer, nbytes, flags)\n",
      "File \u001B[0;32m/Library/Frameworks/Python.framework/Versions/3.11/lib/python3.11/ssl.py:1134\u001B[0m, in \u001B[0;36mSSLSocket.read\u001B[0;34m(self, len, buffer)\u001B[0m\n\u001B[1;32m   1132\u001B[0m \u001B[38;5;28;01mtry\u001B[39;00m:\n\u001B[1;32m   1133\u001B[0m     \u001B[38;5;28;01mif\u001B[39;00m buffer \u001B[38;5;129;01mis\u001B[39;00m \u001B[38;5;129;01mnot\u001B[39;00m \u001B[38;5;28;01mNone\u001B[39;00m:\n\u001B[0;32m-> 1134\u001B[0m         \u001B[38;5;28;01mreturn\u001B[39;00m \u001B[38;5;28;43mself\u001B[39;49m\u001B[38;5;241;43m.\u001B[39;49m\u001B[43m_sslobj\u001B[49m\u001B[38;5;241;43m.\u001B[39;49m\u001B[43mread\u001B[49m\u001B[43m(\u001B[49m\u001B[38;5;28;43mlen\u001B[39;49m\u001B[43m,\u001B[49m\u001B[43m \u001B[49m\u001B[43mbuffer\u001B[49m\u001B[43m)\u001B[49m\n\u001B[1;32m   1135\u001B[0m     \u001B[38;5;28;01melse\u001B[39;00m:\n\u001B[1;32m   1136\u001B[0m         \u001B[38;5;28;01mreturn\u001B[39;00m \u001B[38;5;28mself\u001B[39m\u001B[38;5;241m.\u001B[39m_sslobj\u001B[38;5;241m.\u001B[39mread(\u001B[38;5;28mlen\u001B[39m)\n",
      "\u001B[0;31mKeyboardInterrupt\u001B[0m: "
     ]
    }
   ],
   "source": [
    "# The JSON string containing the exam result\n",
    "exam_result = '''\n",
    "{\n",
    "    \"id\": \"1234567\",\n",
    "    \"result\": {\n",
    "        \"math\": \"A\",\n",
    "        \"science\": \"B\",\n",
    "        \"english\": \"A\"\n",
    "    }\n",
    "}\n",
    "'''\n",
    "\n",
    "exam_result = base64encode(exam_result)  # Encode the JSON string to base64.\n",
    "\n",
    "# Get the nonce of the account\n",
    "nonce = w3.eth.get_transaction_count(account1_address)\n",
    "\n",
    "# Estimate the gas fee\n",
    "# estimated_gas = eduCredentialsStore.functions.checkEduCredentials(exam_result).estimateGas({'value': 1000})\n",
    "estimated_gas = w3.eth.estimate_gas({'value':1000})  # 1000 is the Wei to send.\n",
    "\n",
    "# Build the transaction\n",
    "# check_tx = eduCredentialsStore.functions.checkEduCredentials(exam_result).buildTransaction(  # buildTransaction doesn't exist as a method\n",
    "check_tx = \\\n",
    "    {\n",
    "        'gas': estimated_gas,\n",
    "        'gasPrice': w3.eth.gas_price,\n",
    "        'from': account1_address,\n",
    "        'nonce': nonce,\n",
    "        'value': w3.to_wei(1000, 'wei'),  # Amount to send to the function\n",
    "    }\n",
    "\n",
    "# Sign the transactions\n",
    "signed_txn = w3.eth.account.sign_transaction(check_tx, private_key=account1_private_key)\n",
    "\n",
    "# Send the transaction\n",
    "tx_hash = w3.eth.send_raw_transaction(signed_txn.rawTransaction)\n",
    "print(w3.to_hex(tx_hash))\n",
    "\n",
    "import time\n",
    "\n",
    "# Create an instance of the event\n",
    "result_event = eduCredentialsStore.events.Result()\n",
    "\n",
    "def handle_event(event):\n",
    "    c_receipt = w3.eth.wait_for_transaction_receipt(event['transactionHash'])\n",
    "    result = result_event.processReceipt(c_receipt)\n",
    "\n",
    "    # Print the content of the Result event\n",
    "    print(result)\n",
    "    if result[0]['args']['blockNumber'] != 0:\n",
    "        print('Result is verified.')\n",
    "    else:\n",
    "        print('Result not found on blockchain.')\n",
    "    return True\n",
    "\n",
    "def log_loop(event_filter, poll_interval):\n",
    "    while True:\n",
    "        for event in event_filter.get_new_entries():\n",
    "            result = handle_event(event)\n",
    "            if result:  # Equals to if result == True\n",
    "                return\n",
    "            time.sleep(poll_interval)\n",
    "\n",
    "block_filter = w3.eth.filter(\n",
    "    {\n",
    "        'fromBlock': 'latest',\n",
    "        'address': address  # Address of contract\n",
    "    }\n",
    ")\n",
    "print(block_filter)\n",
    "log_loop(block_filter, 2)"
   ],
   "metadata": {
    "collapsed": false,
    "ExecuteTime": {
     "end_time": "2023-06-16T18:31:23.066857Z",
     "start_time": "2023-06-16T18:15:36.182184Z"
    }
   }
  },
  {
   "cell_type": "code",
   "execution_count": null,
   "outputs": [],
   "source": [],
   "metadata": {
    "collapsed": false
   }
  }
 ],
 "metadata": {
  "kernelspec": {
   "display_name": "Python 3",
   "language": "python",
   "name": "python3"
  },
  "language_info": {
   "codemirror_mode": {
    "name": "ipython",
    "version": 2
   },
   "file_extension": ".py",
   "mimetype": "text/x-python",
   "name": "python",
   "nbconvert_exporter": "python",
   "pygments_lexer": "ipython2",
   "version": "2.7.6"
  }
 },
 "nbformat": 4,
 "nbformat_minor": 0
}
